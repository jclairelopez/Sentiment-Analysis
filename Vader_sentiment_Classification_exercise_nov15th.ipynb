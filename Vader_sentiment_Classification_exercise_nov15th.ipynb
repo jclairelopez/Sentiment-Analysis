{
 "cells": [
  {
   "cell_type": "code",
   "execution_count": 2,
   "metadata": {},
   "outputs": [],
   "source": [
    "# This notebook shows an example of sentiment analyzer using Vader sentiment analyzer package.\n",
    "#This package can be downloaded from nltk or from VaderSentiment packages\n",
    "\n"
   ]
  },
  {
   "cell_type": "code",
   "execution_count": 3,
   "metadata": {},
   "outputs": [
    {
     "name": "stdout",
     "output_type": "stream",
     "text": [
      "[nltk_data] Downloading package vader_lexicon to\n",
      "[nltk_data]     /Users/jade/nltk_data...\n",
      "[nltk_data]   Package vader_lexicon is already up-to-date!\n"
     ]
    },
    {
     "name": "stderr",
     "output_type": "stream",
     "text": [
      "/Users/jade/anaconda3/lib/python3.6/site-packages/nltk/twitter/__init__.py:20: UserWarning: The twython library has not been installed. Some functionality from the twitter package will not be available.\n",
      "  warnings.warn(\"The twython library has not been installed. \"\n"
     ]
    }
   ],
   "source": [
    "# This works with both python 2.0 and upwards\n",
    "import nltk\n",
    "nltk.download('vader_lexicon')\n",
    "from nltk.sentiment.vader import SentimentIntensityAnalyzer"
   ]
  },
  {
   "cell_type": "code",
   "execution_count": 4,
   "metadata": {},
   "outputs": [],
   "source": [
    "# This works with python 3.0\n",
    "# You can also download from vaderSentiment package\n",
    "#! pip install vaderSentiment\n",
    "#from vaderSentiment.vaderSentiment import SentimentIntensityAnalyzer\n"
   ]
  },
  {
   "cell_type": "code",
   "execution_count": 5,
   "metadata": {},
   "outputs": [],
   "source": [
    "sentences = [\"VADER is smart, handsome, and funny.\",\"VADER is smart, handsome, and funny!\", \n",
    "\"VADER is very smart, handsome, and funny.\",  \n",
    "\"VADER is VERY SMART, handsome, and FUNNY.\",  \n",
    "\"VADER is VERY SMART, handsome, and FUNNY!!!\",\n",
    "\"VADER is VERY SMART, really handsome, and INCREDIBLY FUNNY!!!\", \n",
    "\"The book was good.\",         \n",
    "\"The book was kind of good.\", \n",
    "\"The plot was good, but the characters are uncompelling and the dialog is not great.\", \n",
    "\"A really bad, horrible book.\",       \n",
    "\"At least it isn't a horrible book.\",\n",
    "\":) and :D\",     \n",
    "\"\",              \n",
    "\"Today sux\",    \n",
    "\"Today sux!\",    \n",
    "\"Today SUX!\",    \n",
    "\"Today kinda sux! But I'll get by, lol\"]"
   ]
  },
  {
   "cell_type": "code",
   "execution_count": 6,
   "metadata": {},
   "outputs": [
    {
     "data": {
      "text/plain": [
       "17"
      ]
     },
     "execution_count": 6,
     "metadata": {},
     "output_type": "execute_result"
    }
   ],
   "source": [
    "len(sentences)"
   ]
  },
  {
   "cell_type": "code",
   "execution_count": 7,
   "metadata": {},
   "outputs": [
    {
     "name": "stdout",
     "output_type": "stream",
     "text": [
      "VADER is smart, handsome, and funny.\n",
      "neg\n",
      "0.0\n",
      "neu\n",
      "0.254\n",
      "pos\n",
      "0.746\n",
      "compound\n",
      "0.8316\n",
      "VADER is smart, handsome, and funny!\n",
      "neg\n",
      "0.0\n",
      "neu\n",
      "0.248\n",
      "pos\n",
      "0.752\n",
      "compound\n",
      "0.8439\n",
      "VADER is very smart, handsome, and funny.\n",
      "neg\n",
      "0.0\n",
      "neu\n",
      "0.299\n",
      "pos\n",
      "0.701\n",
      "compound\n",
      "0.8545\n",
      "VADER is VERY SMART, handsome, and FUNNY.\n",
      "neg\n",
      "0.0\n",
      "neu\n",
      "0.246\n",
      "pos\n",
      "0.754\n",
      "compound\n",
      "0.9227\n",
      "VADER is VERY SMART, handsome, and FUNNY!!!\n",
      "neg\n",
      "0.0\n",
      "neu\n",
      "0.233\n",
      "pos\n",
      "0.767\n",
      "compound\n",
      "0.9342\n",
      "VADER is VERY SMART, really handsome, and INCREDIBLY FUNNY!!!\n",
      "neg\n",
      "0.0\n",
      "neu\n",
      "0.294\n",
      "pos\n",
      "0.706\n",
      "compound\n",
      "0.9469\n",
      "The book was good.\n",
      "neg\n",
      "0.0\n",
      "neu\n",
      "0.508\n",
      "pos\n",
      "0.492\n",
      "compound\n",
      "0.4404\n",
      "The book was kind of good.\n",
      "neg\n",
      "0.0\n",
      "neu\n",
      "0.657\n",
      "pos\n",
      "0.343\n",
      "compound\n",
      "0.3832\n",
      "The plot was good, but the characters are uncompelling and the dialog is not great.\n",
      "neg\n",
      "0.327\n",
      "neu\n",
      "0.579\n",
      "pos\n",
      "0.094\n",
      "compound\n",
      "-0.7042\n",
      "A really bad, horrible book.\n",
      "neg\n",
      "0.791\n",
      "neu\n",
      "0.209\n",
      "pos\n",
      "0.0\n",
      "compound\n",
      "-0.8211\n",
      "At least it isn't a horrible book.\n",
      "neg\n",
      "0.0\n",
      "neu\n",
      "0.637\n",
      "pos\n",
      "0.363\n",
      "compound\n",
      "0.431\n",
      ":) and :D\n",
      "neg\n",
      "0.0\n",
      "neu\n",
      "0.124\n",
      "pos\n",
      "0.876\n",
      "compound\n",
      "0.7925\n",
      "\n",
      "neg\n",
      "0.0\n",
      "neu\n",
      "0.0\n",
      "pos\n",
      "0.0\n",
      "compound\n",
      "0.0\n",
      "Today sux\n",
      "neg\n",
      "0.714\n",
      "neu\n",
      "0.286\n",
      "pos\n",
      "0.0\n",
      "compound\n",
      "-0.3612\n",
      "Today sux!\n",
      "neg\n",
      "0.736\n",
      "neu\n",
      "0.264\n",
      "pos\n",
      "0.0\n",
      "compound\n",
      "-0.4199\n",
      "Today SUX!\n",
      "neg\n",
      "0.779\n",
      "neu\n",
      "0.221\n",
      "pos\n",
      "0.0\n",
      "compound\n",
      "-0.5461\n",
      "Today kinda sux! But I'll get by, lol\n",
      "neg\n",
      "0.195\n",
      "neu\n",
      "0.531\n",
      "pos\n",
      "0.274\n",
      "compound\n",
      "0.2228\n"
     ]
    }
   ],
   "source": [
    "sid = SentimentIntensityAnalyzer()\n",
    "for sentence in sentences:\n",
    "    print(sentence)\n",
    "    \n",
    "    ss = sid.polarity_scores(sentence)\n",
    "    \n",
    "    for keys,values in ss.items():\n",
    "        print(keys)\n",
    "        print(values)\n",
    "    "
   ]
  },
  {
   "cell_type": "code",
   "execution_count": 8,
   "metadata": {},
   "outputs": [],
   "source": [
    "# The code below shows how to extract the particular value from a dictionary"
   ]
  },
  {
   "cell_type": "code",
   "execution_count": 9,
   "metadata": {},
   "outputs": [
    {
     "data": {
      "text/plain": [
       "'VADER is smart, handsome, and funny.'"
      ]
     },
     "execution_count": 9,
     "metadata": {},
     "output_type": "execute_result"
    }
   ],
   "source": [
    "sentences[0]"
   ]
  },
  {
   "cell_type": "code",
   "execution_count": 10,
   "metadata": {},
   "outputs": [],
   "source": [
    "output=sid.polarity_scores(sentences[0])"
   ]
  },
  {
   "cell_type": "code",
   "execution_count": 11,
   "metadata": {},
   "outputs": [
    {
     "name": "stdout",
     "output_type": "stream",
     "text": [
      "{'neg': 0.0, 'neu': 0.254, 'pos': 0.746, 'compound': 0.8316}\n"
     ]
    }
   ],
   "source": [
    "print(output)"
   ]
  },
  {
   "cell_type": "code",
   "execution_count": 12,
   "metadata": {},
   "outputs": [
    {
     "name": "stdout",
     "output_type": "stream",
     "text": [
      "0.8316\n"
     ]
    }
   ],
   "source": [
    "print(output['compound'])"
   ]
  },
  {
   "cell_type": "code",
   "execution_count": 13,
   "metadata": {},
   "outputs": [
    {
     "name": "stdout",
     "output_type": "stream",
     "text": [
      "VADER is smart, handsome, and funny.\n",
      "compound: 0.8316, \n",
      "neg: 0.0, \n",
      "neu: 0.254, \n",
      "pos: 0.746, \n",
      "\n",
      "VADER is smart, handsome, and funny!\n",
      "compound: 0.8439, \n",
      "neg: 0.0, \n",
      "neu: 0.248, \n",
      "pos: 0.752, \n",
      "\n",
      "VADER is very smart, handsome, and funny.\n",
      "compound: 0.8545, \n",
      "neg: 0.0, \n",
      "neu: 0.299, \n",
      "pos: 0.701, \n",
      "\n",
      "VADER is VERY SMART, handsome, and FUNNY.\n",
      "compound: 0.9227, \n",
      "neg: 0.0, \n",
      "neu: 0.246, \n",
      "pos: 0.754, \n",
      "\n",
      "VADER is VERY SMART, handsome, and FUNNY!!!\n",
      "compound: 0.9342, \n",
      "neg: 0.0, \n",
      "neu: 0.233, \n",
      "pos: 0.767, \n",
      "\n",
      "VADER is VERY SMART, really handsome, and INCREDIBLY FUNNY!!!\n",
      "compound: 0.9469, \n",
      "neg: 0.0, \n",
      "neu: 0.294, \n",
      "pos: 0.706, \n",
      "\n",
      "The book was good.\n",
      "compound: 0.4404, \n",
      "neg: 0.0, \n",
      "neu: 0.508, \n",
      "pos: 0.492, \n",
      "\n",
      "The book was kind of good.\n",
      "compound: 0.3832, \n",
      "neg: 0.0, \n",
      "neu: 0.657, \n",
      "pos: 0.343, \n",
      "\n",
      "The plot was good, but the characters are uncompelling and the dialog is not great.\n",
      "compound: -0.7042, \n",
      "neg: 0.327, \n",
      "neu: 0.579, \n",
      "pos: 0.094, \n",
      "\n",
      "A really bad, horrible book.\n",
      "compound: -0.8211, \n",
      "neg: 0.791, \n",
      "neu: 0.209, \n",
      "pos: 0.0, \n",
      "\n",
      "At least it isn't a horrible book.\n",
      "compound: 0.431, \n",
      "neg: 0.0, \n",
      "neu: 0.637, \n",
      "pos: 0.363, \n",
      "\n",
      ":) and :D\n",
      "compound: 0.7925, \n",
      "neg: 0.0, \n",
      "neu: 0.124, \n",
      "pos: 0.876, \n",
      "\n",
      "\n",
      "compound: 0.0, \n",
      "neg: 0.0, \n",
      "neu: 0.0, \n",
      "pos: 0.0, \n",
      "\n",
      "Today sux\n",
      "compound: -0.3612, \n",
      "neg: 0.714, \n",
      "neu: 0.286, \n",
      "pos: 0.0, \n",
      "\n",
      "Today sux!\n",
      "compound: -0.4199, \n",
      "neg: 0.736, \n",
      "neu: 0.264, \n",
      "pos: 0.0, \n",
      "\n",
      "Today SUX!\n",
      "compound: -0.5461, \n",
      "neg: 0.779, \n",
      "neu: 0.221, \n",
      "pos: 0.0, \n",
      "\n",
      "Today kinda sux! But I'll get by, lol\n",
      "compound: 0.2228, \n",
      "neg: 0.195, \n",
      "neu: 0.531, \n",
      "pos: 0.274, \n",
      "\n"
     ]
    }
   ],
   "source": [
    "# Another format of printing\n",
    "\n",
    "sid = SentimentIntensityAnalyzer()\n",
    "for sentence in sentences:\n",
    "    print(sentence)\n",
    "    \n",
    "    ss = sid.polarity_scores(sentence)\n",
    "# This is for formatting purposes\n",
    "    for k in sorted(ss):\n",
    "            print('{0}: {1}, '.format(k, ss[k]))\n",
    "# This print is for an extra blank line\n",
    "    print()\n",
    "    "
   ]
  },
  {
   "cell_type": "code",
   "execution_count": 14,
   "metadata": {},
   "outputs": [
    {
     "data": {
      "text/plain": [
       "['compound', 'neg', 'neu', 'pos']"
      ]
     },
     "execution_count": 14,
     "metadata": {},
     "output_type": "execute_result"
    }
   ],
   "source": [
    "sorted(ss)"
   ]
  },
  {
   "cell_type": "markdown",
   "metadata": {},
   "source": [
    "The pos, neu, and neg scores are ratios for proportions of text that fall in each category (so these should all add up to be 1... or close to it with float operation). \n",
    "These are the most useful metrics if you want multidimensional measures of sentiment for a given sentence."
   ]
  },
  {
   "cell_type": "markdown",
   "metadata": {},
   "source": [
    "The compound score is computed by summing the valence scores of each word in the lexicon, adjusted according to the \n",
    "rules, and then normalized to be between -1 (most extreme negative) and +1 (most extreme positive). \n",
    "This is the most useful metric if you want a single unidimensional measure of sentiment for a given sentence.\n",
    "Calling it a 'normalized, weighted composite score' is accurate."
   ]
  },
  {
   "cell_type": "code",
   "execution_count": 15,
   "metadata": {},
   "outputs": [],
   "source": [
    "# We can set standardized thresholds for classifying sentences as either positive, neutral, or negative. \n",
    "# Typical threshold values (used in the literature cited on nltk page) are:\n",
    "\n",
    "# positive sentiment: compound score >= 0.05\n",
    "# neutral sentiment: (compound score > -0.05) and (compound score < 0.05)\n",
    "# negative sentiment: compound score <= -0.05"
   ]
  },
  {
   "cell_type": "code",
   "execution_count": 16,
   "metadata": {},
   "outputs": [],
   "source": [
    "# Now we need to store all results in a table\n",
    "#First initialize the list for all scores and tweets. \n",
    "# These are all empty lists\n",
    "tweet = [] # This is for tweets\n",
    "vs_compound = []# This is for compound score\n",
    "vs_pos = [] # This is for positive score\n",
    "vs_neu = [] # This is for neutral score\n",
    "vs_neg = [] # This is for negativescore\n",
    "vs_sentiment =[] # This is for compound score"
   ]
  },
  {
   "cell_type": "code",
   "execution_count": 17,
   "metadata": {},
   "outputs": [],
   "source": [
    "for i in range(0, len(sentences)):\n",
    "    tweet.append(sentences[i])\n",
    "    vs_compound.append(sid.polarity_scores(sentences[i])['compound'])\n",
    "    vs_pos.append(sid.polarity_scores(sentences[i])['pos'])\n",
    "    vs_neu.append(sid.polarity_scores(sentences[i])['neu'])\n",
    "    vs_neg.append(sid.polarity_scores(sentences[i])['neg'])\n",
    "    vs_sentiment.append(sentences[i])"
   ]
  },
  {
   "cell_type": "code",
   "execution_count": 18,
   "metadata": {},
   "outputs": [
    {
     "data": {
      "text/plain": [
       "[0.8316,\n",
       " 0.8439,\n",
       " 0.8545,\n",
       " 0.9227,\n",
       " 0.9342,\n",
       " 0.9469,\n",
       " 0.4404,\n",
       " 0.3832,\n",
       " -0.7042,\n",
       " -0.8211,\n",
       " 0.431,\n",
       " 0.7925,\n",
       " 0.0,\n",
       " -0.3612,\n",
       " -0.4199,\n",
       " -0.5461,\n",
       " 0.2228]"
      ]
     },
     "execution_count": 18,
     "metadata": {},
     "output_type": "execute_result"
    }
   ],
   "source": [
    "vs_compound"
   ]
  },
  {
   "cell_type": "code",
   "execution_count": 19,
   "metadata": {},
   "outputs": [
    {
     "data": {
      "text/plain": [
       "17"
      ]
     },
     "execution_count": 19,
     "metadata": {},
     "output_type": "execute_result"
    }
   ],
   "source": [
    "len(tweet)"
   ]
  },
  {
   "cell_type": "code",
   "execution_count": 20,
   "metadata": {},
   "outputs": [
    {
     "data": {
      "text/plain": [
       "17"
      ]
     },
     "execution_count": 20,
     "metadata": {},
     "output_type": "execute_result"
    }
   ],
   "source": [
    "len(vs_compound)"
   ]
  },
  {
   "cell_type": "code",
   "execution_count": 21,
   "metadata": {},
   "outputs": [
    {
     "data": {
      "text/plain": [
       "17"
      ]
     },
     "execution_count": 21,
     "metadata": {},
     "output_type": "execute_result"
    }
   ],
   "source": [
    "len(vs_pos)"
   ]
  },
  {
   "cell_type": "code",
   "execution_count": 22,
   "metadata": {},
   "outputs": [],
   "source": [
    "from pandas import Series, DataFrame\n",
    "\n",
    "twitter_df = DataFrame({'Tweet': tweet, \n",
    "                       'Compound': vs_compound,\n",
    "                       'Positive': vs_pos,\n",
    "                       'Neutral': vs_neu,\n",
    "                        'Negative': vs_neg,})"
   ]
  },
  {
   "cell_type": "code",
   "execution_count": 23,
   "metadata": {},
   "outputs": [
    {
     "data": {
      "text/html": [
       "<div>\n",
       "<style scoped>\n",
       "    .dataframe tbody tr th:only-of-type {\n",
       "        vertical-align: middle;\n",
       "    }\n",
       "\n",
       "    .dataframe tbody tr th {\n",
       "        vertical-align: top;\n",
       "    }\n",
       "\n",
       "    .dataframe thead th {\n",
       "        text-align: right;\n",
       "    }\n",
       "</style>\n",
       "<table border=\"1\" class=\"dataframe\">\n",
       "  <thead>\n",
       "    <tr style=\"text-align: right;\">\n",
       "      <th></th>\n",
       "      <th>Tweet</th>\n",
       "      <th>Compound</th>\n",
       "      <th>Positive</th>\n",
       "      <th>Neutral</th>\n",
       "      <th>Negative</th>\n",
       "    </tr>\n",
       "  </thead>\n",
       "  <tbody>\n",
       "    <tr>\n",
       "      <th>0</th>\n",
       "      <td>VADER is smart, handsome, and funny.</td>\n",
       "      <td>0.8316</td>\n",
       "      <td>0.746</td>\n",
       "      <td>0.254</td>\n",
       "      <td>0.000</td>\n",
       "    </tr>\n",
       "    <tr>\n",
       "      <th>1</th>\n",
       "      <td>VADER is smart, handsome, and funny!</td>\n",
       "      <td>0.8439</td>\n",
       "      <td>0.752</td>\n",
       "      <td>0.248</td>\n",
       "      <td>0.000</td>\n",
       "    </tr>\n",
       "    <tr>\n",
       "      <th>2</th>\n",
       "      <td>VADER is very smart, handsome, and funny.</td>\n",
       "      <td>0.8545</td>\n",
       "      <td>0.701</td>\n",
       "      <td>0.299</td>\n",
       "      <td>0.000</td>\n",
       "    </tr>\n",
       "    <tr>\n",
       "      <th>3</th>\n",
       "      <td>VADER is VERY SMART, handsome, and FUNNY.</td>\n",
       "      <td>0.9227</td>\n",
       "      <td>0.754</td>\n",
       "      <td>0.246</td>\n",
       "      <td>0.000</td>\n",
       "    </tr>\n",
       "    <tr>\n",
       "      <th>4</th>\n",
       "      <td>VADER is VERY SMART, handsome, and FUNNY!!!</td>\n",
       "      <td>0.9342</td>\n",
       "      <td>0.767</td>\n",
       "      <td>0.233</td>\n",
       "      <td>0.000</td>\n",
       "    </tr>\n",
       "    <tr>\n",
       "      <th>5</th>\n",
       "      <td>VADER is VERY SMART, really handsome, and INCR...</td>\n",
       "      <td>0.9469</td>\n",
       "      <td>0.706</td>\n",
       "      <td>0.294</td>\n",
       "      <td>0.000</td>\n",
       "    </tr>\n",
       "    <tr>\n",
       "      <th>6</th>\n",
       "      <td>The book was good.</td>\n",
       "      <td>0.4404</td>\n",
       "      <td>0.492</td>\n",
       "      <td>0.508</td>\n",
       "      <td>0.000</td>\n",
       "    </tr>\n",
       "    <tr>\n",
       "      <th>7</th>\n",
       "      <td>The book was kind of good.</td>\n",
       "      <td>0.3832</td>\n",
       "      <td>0.343</td>\n",
       "      <td>0.657</td>\n",
       "      <td>0.000</td>\n",
       "    </tr>\n",
       "    <tr>\n",
       "      <th>8</th>\n",
       "      <td>The plot was good, but the characters are unco...</td>\n",
       "      <td>-0.7042</td>\n",
       "      <td>0.094</td>\n",
       "      <td>0.579</td>\n",
       "      <td>0.327</td>\n",
       "    </tr>\n",
       "    <tr>\n",
       "      <th>9</th>\n",
       "      <td>A really bad, horrible book.</td>\n",
       "      <td>-0.8211</td>\n",
       "      <td>0.000</td>\n",
       "      <td>0.209</td>\n",
       "      <td>0.791</td>\n",
       "    </tr>\n",
       "    <tr>\n",
       "      <th>10</th>\n",
       "      <td>At least it isn't a horrible book.</td>\n",
       "      <td>0.4310</td>\n",
       "      <td>0.363</td>\n",
       "      <td>0.637</td>\n",
       "      <td>0.000</td>\n",
       "    </tr>\n",
       "    <tr>\n",
       "      <th>11</th>\n",
       "      <td>:) and :D</td>\n",
       "      <td>0.7925</td>\n",
       "      <td>0.876</td>\n",
       "      <td>0.124</td>\n",
       "      <td>0.000</td>\n",
       "    </tr>\n",
       "    <tr>\n",
       "      <th>12</th>\n",
       "      <td></td>\n",
       "      <td>0.0000</td>\n",
       "      <td>0.000</td>\n",
       "      <td>0.000</td>\n",
       "      <td>0.000</td>\n",
       "    </tr>\n",
       "    <tr>\n",
       "      <th>13</th>\n",
       "      <td>Today sux</td>\n",
       "      <td>-0.3612</td>\n",
       "      <td>0.000</td>\n",
       "      <td>0.286</td>\n",
       "      <td>0.714</td>\n",
       "    </tr>\n",
       "    <tr>\n",
       "      <th>14</th>\n",
       "      <td>Today sux!</td>\n",
       "      <td>-0.4199</td>\n",
       "      <td>0.000</td>\n",
       "      <td>0.264</td>\n",
       "      <td>0.736</td>\n",
       "    </tr>\n",
       "    <tr>\n",
       "      <th>15</th>\n",
       "      <td>Today SUX!</td>\n",
       "      <td>-0.5461</td>\n",
       "      <td>0.000</td>\n",
       "      <td>0.221</td>\n",
       "      <td>0.779</td>\n",
       "    </tr>\n",
       "    <tr>\n",
       "      <th>16</th>\n",
       "      <td>Today kinda sux! But I'll get by, lol</td>\n",
       "      <td>0.2228</td>\n",
       "      <td>0.274</td>\n",
       "      <td>0.531</td>\n",
       "      <td>0.195</td>\n",
       "    </tr>\n",
       "  </tbody>\n",
       "</table>\n",
       "</div>"
      ],
      "text/plain": [
       "                                                Tweet  Compound  Positive  \\\n",
       "0                VADER is smart, handsome, and funny.    0.8316     0.746   \n",
       "1                VADER is smart, handsome, and funny!    0.8439     0.752   \n",
       "2           VADER is very smart, handsome, and funny.    0.8545     0.701   \n",
       "3           VADER is VERY SMART, handsome, and FUNNY.    0.9227     0.754   \n",
       "4         VADER is VERY SMART, handsome, and FUNNY!!!    0.9342     0.767   \n",
       "5   VADER is VERY SMART, really handsome, and INCR...    0.9469     0.706   \n",
       "6                                  The book was good.    0.4404     0.492   \n",
       "7                          The book was kind of good.    0.3832     0.343   \n",
       "8   The plot was good, but the characters are unco...   -0.7042     0.094   \n",
       "9                        A really bad, horrible book.   -0.8211     0.000   \n",
       "10                 At least it isn't a horrible book.    0.4310     0.363   \n",
       "11                                          :) and :D    0.7925     0.876   \n",
       "12                                                       0.0000     0.000   \n",
       "13                                          Today sux   -0.3612     0.000   \n",
       "14                                         Today sux!   -0.4199     0.000   \n",
       "15                                         Today SUX!   -0.5461     0.000   \n",
       "16              Today kinda sux! But I'll get by, lol    0.2228     0.274   \n",
       "\n",
       "    Neutral  Negative  \n",
       "0     0.254     0.000  \n",
       "1     0.248     0.000  \n",
       "2     0.299     0.000  \n",
       "3     0.246     0.000  \n",
       "4     0.233     0.000  \n",
       "5     0.294     0.000  \n",
       "6     0.508     0.000  \n",
       "7     0.657     0.000  \n",
       "8     0.579     0.327  \n",
       "9     0.209     0.791  \n",
       "10    0.637     0.000  \n",
       "11    0.124     0.000  \n",
       "12    0.000     0.000  \n",
       "13    0.286     0.714  \n",
       "14    0.264     0.736  \n",
       "15    0.221     0.779  \n",
       "16    0.531     0.195  "
      ]
     },
     "execution_count": 23,
     "metadata": {},
     "output_type": "execute_result"
    }
   ],
   "source": [
    "twitter_df"
   ]
  },
  {
   "cell_type": "code",
   "execution_count": 24,
   "metadata": {},
   "outputs": [],
   "source": [
    "# Create a list to store the data\n",
    "sentiment=[]\n",
    "# For each row in the column,\n",
    "for row in twitter_df['Compound']:\n",
    "    if row>0.05:\n",
    "        sentiment.append('positive')\n",
    "    elif row>-0.05:\n",
    "        sentiment.append('neutral')\n",
    "    else: \n",
    "        sentiment.append('negative')"
   ]
  },
  {
   "cell_type": "code",
   "execution_count": 25,
   "metadata": {},
   "outputs": [
    {
     "data": {
      "text/plain": [
       "['positive',\n",
       " 'positive',\n",
       " 'positive',\n",
       " 'positive',\n",
       " 'positive',\n",
       " 'positive',\n",
       " 'positive',\n",
       " 'positive',\n",
       " 'negative',\n",
       " 'negative',\n",
       " 'positive',\n",
       " 'positive',\n",
       " 'neutral',\n",
       " 'negative',\n",
       " 'negative',\n",
       " 'negative',\n",
       " 'positive']"
      ]
     },
     "execution_count": 25,
     "metadata": {},
     "output_type": "execute_result"
    }
   ],
   "source": [
    "sentiment"
   ]
  },
  {
   "cell_type": "code",
   "execution_count": 26,
   "metadata": {},
   "outputs": [],
   "source": [
    "# Adding sentiment column to the list\n",
    "twitter_df['sentiment']=sentiment"
   ]
  },
  {
   "cell_type": "code",
   "execution_count": 37,
   "metadata": {},
   "outputs": [
    {
     "data": {
      "text/html": [
       "<div>\n",
       "<style scoped>\n",
       "    .dataframe tbody tr th:only-of-type {\n",
       "        vertical-align: middle;\n",
       "    }\n",
       "\n",
       "    .dataframe tbody tr th {\n",
       "        vertical-align: top;\n",
       "    }\n",
       "\n",
       "    .dataframe thead th {\n",
       "        text-align: right;\n",
       "    }\n",
       "</style>\n",
       "<table border=\"1\" class=\"dataframe\">\n",
       "  <thead>\n",
       "    <tr style=\"text-align: right;\">\n",
       "      <th></th>\n",
       "      <th>Tweet</th>\n",
       "      <th>Compound</th>\n",
       "      <th>Positive</th>\n",
       "      <th>Neutral</th>\n",
       "      <th>Negative</th>\n",
       "      <th>sentiment</th>\n",
       "    </tr>\n",
       "  </thead>\n",
       "  <tbody>\n",
       "    <tr>\n",
       "      <th>0</th>\n",
       "      <td>VADER is smart, handsome, and funny.</td>\n",
       "      <td>0.8316</td>\n",
       "      <td>0.746</td>\n",
       "      <td>0.254</td>\n",
       "      <td>0.000</td>\n",
       "      <td>positive</td>\n",
       "    </tr>\n",
       "    <tr>\n",
       "      <th>1</th>\n",
       "      <td>VADER is smart, handsome, and funny!</td>\n",
       "      <td>0.8439</td>\n",
       "      <td>0.752</td>\n",
       "      <td>0.248</td>\n",
       "      <td>0.000</td>\n",
       "      <td>positive</td>\n",
       "    </tr>\n",
       "    <tr>\n",
       "      <th>2</th>\n",
       "      <td>VADER is very smart, handsome, and funny.</td>\n",
       "      <td>0.8545</td>\n",
       "      <td>0.701</td>\n",
       "      <td>0.299</td>\n",
       "      <td>0.000</td>\n",
       "      <td>positive</td>\n",
       "    </tr>\n",
       "    <tr>\n",
       "      <th>3</th>\n",
       "      <td>VADER is VERY SMART, handsome, and FUNNY.</td>\n",
       "      <td>0.9227</td>\n",
       "      <td>0.754</td>\n",
       "      <td>0.246</td>\n",
       "      <td>0.000</td>\n",
       "      <td>positive</td>\n",
       "    </tr>\n",
       "    <tr>\n",
       "      <th>4</th>\n",
       "      <td>VADER is VERY SMART, handsome, and FUNNY!!!</td>\n",
       "      <td>0.9342</td>\n",
       "      <td>0.767</td>\n",
       "      <td>0.233</td>\n",
       "      <td>0.000</td>\n",
       "      <td>positive</td>\n",
       "    </tr>\n",
       "    <tr>\n",
       "      <th>5</th>\n",
       "      <td>VADER is VERY SMART, really handsome, and INCR...</td>\n",
       "      <td>0.9469</td>\n",
       "      <td>0.706</td>\n",
       "      <td>0.294</td>\n",
       "      <td>0.000</td>\n",
       "      <td>positive</td>\n",
       "    </tr>\n",
       "    <tr>\n",
       "      <th>6</th>\n",
       "      <td>The book was good.</td>\n",
       "      <td>0.4404</td>\n",
       "      <td>0.492</td>\n",
       "      <td>0.508</td>\n",
       "      <td>0.000</td>\n",
       "      <td>positive</td>\n",
       "    </tr>\n",
       "    <tr>\n",
       "      <th>7</th>\n",
       "      <td>The book was kind of good.</td>\n",
       "      <td>0.3832</td>\n",
       "      <td>0.343</td>\n",
       "      <td>0.657</td>\n",
       "      <td>0.000</td>\n",
       "      <td>positive</td>\n",
       "    </tr>\n",
       "    <tr>\n",
       "      <th>8</th>\n",
       "      <td>The plot was good, but the characters are unco...</td>\n",
       "      <td>-0.7042</td>\n",
       "      <td>0.094</td>\n",
       "      <td>0.579</td>\n",
       "      <td>0.327</td>\n",
       "      <td>negative</td>\n",
       "    </tr>\n",
       "    <tr>\n",
       "      <th>9</th>\n",
       "      <td>A really bad, horrible book.</td>\n",
       "      <td>-0.8211</td>\n",
       "      <td>0.000</td>\n",
       "      <td>0.209</td>\n",
       "      <td>0.791</td>\n",
       "      <td>negative</td>\n",
       "    </tr>\n",
       "    <tr>\n",
       "      <th>10</th>\n",
       "      <td>At least it isn't a horrible book.</td>\n",
       "      <td>0.4310</td>\n",
       "      <td>0.363</td>\n",
       "      <td>0.637</td>\n",
       "      <td>0.000</td>\n",
       "      <td>positive</td>\n",
       "    </tr>\n",
       "    <tr>\n",
       "      <th>11</th>\n",
       "      <td>:) and :D</td>\n",
       "      <td>0.7925</td>\n",
       "      <td>0.876</td>\n",
       "      <td>0.124</td>\n",
       "      <td>0.000</td>\n",
       "      <td>positive</td>\n",
       "    </tr>\n",
       "    <tr>\n",
       "      <th>12</th>\n",
       "      <td></td>\n",
       "      <td>0.0000</td>\n",
       "      <td>0.000</td>\n",
       "      <td>0.000</td>\n",
       "      <td>0.000</td>\n",
       "      <td>neutral</td>\n",
       "    </tr>\n",
       "    <tr>\n",
       "      <th>13</th>\n",
       "      <td>Today sux</td>\n",
       "      <td>-0.3612</td>\n",
       "      <td>0.000</td>\n",
       "      <td>0.286</td>\n",
       "      <td>0.714</td>\n",
       "      <td>negative</td>\n",
       "    </tr>\n",
       "    <tr>\n",
       "      <th>14</th>\n",
       "      <td>Today sux!</td>\n",
       "      <td>-0.4199</td>\n",
       "      <td>0.000</td>\n",
       "      <td>0.264</td>\n",
       "      <td>0.736</td>\n",
       "      <td>negative</td>\n",
       "    </tr>\n",
       "    <tr>\n",
       "      <th>15</th>\n",
       "      <td>Today SUX!</td>\n",
       "      <td>-0.5461</td>\n",
       "      <td>0.000</td>\n",
       "      <td>0.221</td>\n",
       "      <td>0.779</td>\n",
       "      <td>negative</td>\n",
       "    </tr>\n",
       "    <tr>\n",
       "      <th>16</th>\n",
       "      <td>Today kinda sux! But I'll get by, lol</td>\n",
       "      <td>0.2228</td>\n",
       "      <td>0.274</td>\n",
       "      <td>0.531</td>\n",
       "      <td>0.195</td>\n",
       "      <td>positive</td>\n",
       "    </tr>\n",
       "  </tbody>\n",
       "</table>\n",
       "</div>"
      ],
      "text/plain": [
       "                                                Tweet  Compound  Positive  \\\n",
       "0                VADER is smart, handsome, and funny.    0.8316     0.746   \n",
       "1                VADER is smart, handsome, and funny!    0.8439     0.752   \n",
       "2           VADER is very smart, handsome, and funny.    0.8545     0.701   \n",
       "3           VADER is VERY SMART, handsome, and FUNNY.    0.9227     0.754   \n",
       "4         VADER is VERY SMART, handsome, and FUNNY!!!    0.9342     0.767   \n",
       "5   VADER is VERY SMART, really handsome, and INCR...    0.9469     0.706   \n",
       "6                                  The book was good.    0.4404     0.492   \n",
       "7                          The book was kind of good.    0.3832     0.343   \n",
       "8   The plot was good, but the characters are unco...   -0.7042     0.094   \n",
       "9                        A really bad, horrible book.   -0.8211     0.000   \n",
       "10                 At least it isn't a horrible book.    0.4310     0.363   \n",
       "11                                          :) and :D    0.7925     0.876   \n",
       "12                                                       0.0000     0.000   \n",
       "13                                          Today sux   -0.3612     0.000   \n",
       "14                                         Today sux!   -0.4199     0.000   \n",
       "15                                         Today SUX!   -0.5461     0.000   \n",
       "16              Today kinda sux! But I'll get by, lol    0.2228     0.274   \n",
       "\n",
       "    Neutral  Negative sentiment  \n",
       "0     0.254     0.000  positive  \n",
       "1     0.248     0.000  positive  \n",
       "2     0.299     0.000  positive  \n",
       "3     0.246     0.000  positive  \n",
       "4     0.233     0.000  positive  \n",
       "5     0.294     0.000  positive  \n",
       "6     0.508     0.000  positive  \n",
       "7     0.657     0.000  positive  \n",
       "8     0.579     0.327  negative  \n",
       "9     0.209     0.791  negative  \n",
       "10    0.637     0.000  positive  \n",
       "11    0.124     0.000  positive  \n",
       "12    0.000     0.000   neutral  \n",
       "13    0.286     0.714  negative  \n",
       "14    0.264     0.736  negative  \n",
       "15    0.221     0.779  negative  \n",
       "16    0.531     0.195  positive  "
      ]
     },
     "execution_count": 37,
     "metadata": {},
     "output_type": "execute_result"
    }
   ],
   "source": [
    "twitter_df"
   ]
  },
  {
   "cell_type": "code",
   "execution_count": 38,
   "metadata": {},
   "outputs": [],
   "source": [
    "from __future__ import print_function\n",
    "from sklearn.feature_extraction.text import TfidfVectorizer, CountVectorizer\n",
    "from sklearn import metrics\n",
    "import pandas as pd\n",
    "import numpy as np"
   ]
  },
  {
   "cell_type": "code",
   "execution_count": 39,
   "metadata": {},
   "outputs": [
    {
     "name": "stdout",
     "output_type": "stream",
     "text": [
      "36\n"
     ]
    }
   ],
   "source": [
    "# Reducing weight of more common words\n",
    "from sklearn.feature_extraction.text import CountVectorizer,TfidfVectorizer\n",
    "bow_transformer=CountVectorizer().fit(twitter_df['Tweet'])\n",
    "print (len(bow_transformer.vocabulary_))"
   ]
  },
  {
   "cell_type": "code",
   "execution_count": 40,
   "metadata": {},
   "outputs": [],
   "source": [
    "# Count the entire sms corpus are a large, sparse matrix\n",
    "twitter_bow=bow_transformer.transform(twitter_df['Tweet'])"
   ]
  },
  {
   "cell_type": "code",
   "execution_count": 84,
   "metadata": {},
   "outputs": [],
   "source": [
    "# Separating out columns\n",
    "twitter_df_score=twitter_df[['Positive','Neutral','Negative']]\n"
   ]
  },
  {
   "cell_type": "code",
   "execution_count": 85,
   "metadata": {},
   "outputs": [],
   "source": [
    "# Separating out columns\n",
    "twitter_df_label=twitter_df['sentiment']"
   ]
  },
  {
   "cell_type": "code",
   "execution_count": 86,
   "metadata": {},
   "outputs": [
    {
     "data": {
      "text/plain": [
       "0     positive\n",
       "1     positive\n",
       "2     positive\n",
       "3     positive\n",
       "4     positive\n",
       "5     positive\n",
       "6     positive\n",
       "7     positive\n",
       "8     negative\n",
       "9     negative\n",
       "10    positive\n",
       "11    positive\n",
       "12     neutral\n",
       "13    negative\n",
       "14    negative\n",
       "15    negative\n",
       "16    positive\n",
       "Name: sentiment, dtype: object"
      ]
     },
     "execution_count": 86,
     "metadata": {},
     "output_type": "execute_result"
    }
   ],
   "source": [
    "# Checking work\n",
    "twitter_df_label"
   ]
  },
  {
   "cell_type": "code",
   "execution_count": 87,
   "metadata": {},
   "outputs": [
    {
     "data": {
      "text/html": [
       "<div>\n",
       "<style scoped>\n",
       "    .dataframe tbody tr th:only-of-type {\n",
       "        vertical-align: middle;\n",
       "    }\n",
       "\n",
       "    .dataframe tbody tr th {\n",
       "        vertical-align: top;\n",
       "    }\n",
       "\n",
       "    .dataframe thead th {\n",
       "        text-align: right;\n",
       "    }\n",
       "</style>\n",
       "<table border=\"1\" class=\"dataframe\">\n",
       "  <thead>\n",
       "    <tr style=\"text-align: right;\">\n",
       "      <th></th>\n",
       "      <th>Positive</th>\n",
       "      <th>Neutral</th>\n",
       "      <th>Negative</th>\n",
       "    </tr>\n",
       "  </thead>\n",
       "  <tbody>\n",
       "    <tr>\n",
       "      <th>0</th>\n",
       "      <td>0.746</td>\n",
       "      <td>0.254</td>\n",
       "      <td>0.000</td>\n",
       "    </tr>\n",
       "    <tr>\n",
       "      <th>1</th>\n",
       "      <td>0.752</td>\n",
       "      <td>0.248</td>\n",
       "      <td>0.000</td>\n",
       "    </tr>\n",
       "    <tr>\n",
       "      <th>2</th>\n",
       "      <td>0.701</td>\n",
       "      <td>0.299</td>\n",
       "      <td>0.000</td>\n",
       "    </tr>\n",
       "    <tr>\n",
       "      <th>3</th>\n",
       "      <td>0.754</td>\n",
       "      <td>0.246</td>\n",
       "      <td>0.000</td>\n",
       "    </tr>\n",
       "    <tr>\n",
       "      <th>4</th>\n",
       "      <td>0.767</td>\n",
       "      <td>0.233</td>\n",
       "      <td>0.000</td>\n",
       "    </tr>\n",
       "    <tr>\n",
       "      <th>5</th>\n",
       "      <td>0.706</td>\n",
       "      <td>0.294</td>\n",
       "      <td>0.000</td>\n",
       "    </tr>\n",
       "    <tr>\n",
       "      <th>6</th>\n",
       "      <td>0.492</td>\n",
       "      <td>0.508</td>\n",
       "      <td>0.000</td>\n",
       "    </tr>\n",
       "    <tr>\n",
       "      <th>7</th>\n",
       "      <td>0.343</td>\n",
       "      <td>0.657</td>\n",
       "      <td>0.000</td>\n",
       "    </tr>\n",
       "    <tr>\n",
       "      <th>8</th>\n",
       "      <td>0.094</td>\n",
       "      <td>0.579</td>\n",
       "      <td>0.327</td>\n",
       "    </tr>\n",
       "    <tr>\n",
       "      <th>9</th>\n",
       "      <td>0.000</td>\n",
       "      <td>0.209</td>\n",
       "      <td>0.791</td>\n",
       "    </tr>\n",
       "    <tr>\n",
       "      <th>10</th>\n",
       "      <td>0.363</td>\n",
       "      <td>0.637</td>\n",
       "      <td>0.000</td>\n",
       "    </tr>\n",
       "    <tr>\n",
       "      <th>11</th>\n",
       "      <td>0.876</td>\n",
       "      <td>0.124</td>\n",
       "      <td>0.000</td>\n",
       "    </tr>\n",
       "    <tr>\n",
       "      <th>12</th>\n",
       "      <td>0.000</td>\n",
       "      <td>0.000</td>\n",
       "      <td>0.000</td>\n",
       "    </tr>\n",
       "    <tr>\n",
       "      <th>13</th>\n",
       "      <td>0.000</td>\n",
       "      <td>0.286</td>\n",
       "      <td>0.714</td>\n",
       "    </tr>\n",
       "    <tr>\n",
       "      <th>14</th>\n",
       "      <td>0.000</td>\n",
       "      <td>0.264</td>\n",
       "      <td>0.736</td>\n",
       "    </tr>\n",
       "    <tr>\n",
       "      <th>15</th>\n",
       "      <td>0.000</td>\n",
       "      <td>0.221</td>\n",
       "      <td>0.779</td>\n",
       "    </tr>\n",
       "    <tr>\n",
       "      <th>16</th>\n",
       "      <td>0.274</td>\n",
       "      <td>0.531</td>\n",
       "      <td>0.195</td>\n",
       "    </tr>\n",
       "  </tbody>\n",
       "</table>\n",
       "</div>"
      ],
      "text/plain": [
       "    Positive  Neutral  Negative\n",
       "0      0.746    0.254     0.000\n",
       "1      0.752    0.248     0.000\n",
       "2      0.701    0.299     0.000\n",
       "3      0.754    0.246     0.000\n",
       "4      0.767    0.233     0.000\n",
       "5      0.706    0.294     0.000\n",
       "6      0.492    0.508     0.000\n",
       "7      0.343    0.657     0.000\n",
       "8      0.094    0.579     0.327\n",
       "9      0.000    0.209     0.791\n",
       "10     0.363    0.637     0.000\n",
       "11     0.876    0.124     0.000\n",
       "12     0.000    0.000     0.000\n",
       "13     0.000    0.286     0.714\n",
       "14     0.000    0.264     0.736\n",
       "15     0.000    0.221     0.779\n",
       "16     0.274    0.531     0.195"
      ]
     },
     "execution_count": 87,
     "metadata": {},
     "output_type": "execute_result"
    }
   ],
   "source": [
    "# Checking work\n",
    "twitter_df_score"
   ]
  },
  {
   "cell_type": "code",
   "execution_count": 88,
   "metadata": {},
   "outputs": [],
   "source": [
    "# logistic regression\n",
    "from sklearn.linear_model import LogisticRegression \n",
    "\n",
    "from sklearn.model_selection import train_test_split\n",
    "\n"
   ]
  },
  {
   "cell_type": "code",
   "execution_count": 89,
   "metadata": {},
   "outputs": [],
   "source": [
    "# Split data into train and test\n",
    "X_train, X_test, Y_train, Y_Test=train_test_split(twitter_df_score, twitter_df_label, test_size=0.3, random_state=0)"
   ]
  },
  {
   "cell_type": "code",
   "execution_count": 90,
   "metadata": {},
   "outputs": [],
   "source": [
    "# Construct the classifier\n",
    "logreg=LogisticRegression()"
   ]
  },
  {
   "cell_type": "code",
   "execution_count": 91,
   "metadata": {},
   "outputs": [
    {
     "data": {
      "text/plain": [
       "LogisticRegression(C=1.0, class_weight=None, dual=False, fit_intercept=True,\n",
       "          intercept_scaling=1, max_iter=100, multi_class='ovr', n_jobs=1,\n",
       "          penalty='l2', random_state=None, solver='liblinear', tol=0.0001,\n",
       "          verbose=0, warm_start=False)"
      ]
     },
     "execution_count": 91,
     "metadata": {},
     "output_type": "execute_result"
    }
   ],
   "source": [
    "# Fit the classifier\n",
    "logreg.fit(X_train, Y_train)"
   ]
  },
  {
   "cell_type": "code",
   "execution_count": 94,
   "metadata": {},
   "outputs": [],
   "source": [
    "y_pred=logreg.predict(X_test)"
   ]
  },
  {
   "cell_type": "code",
   "execution_count": 95,
   "metadata": {},
   "outputs": [
    {
     "name": "stdout",
     "output_type": "stream",
     "text": [
      "Accuracy of logistic regression classifieron test sets   \n",
      "0.5\n"
     ]
    }
   ],
   "source": [
    "print('Accuracy of logistic regression classifieron test sets   ')\n",
    "print(logreg.score(X_test, Y_Test))"
   ]
  },
  {
   "cell_type": "code",
   "execution_count": 99,
   "metadata": {},
   "outputs": [
    {
     "name": "stdout",
     "output_type": "stream",
     "text": [
      "             precision    recall  f1-score   support\n",
      "\n",
      "   negative       0.00      0.00      0.00         3\n",
      "   positive       0.50      1.00      0.67         3\n",
      "\n",
      "avg / total       0.25      0.50      0.33         6\n",
      "\n"
     ]
    },
    {
     "name": "stderr",
     "output_type": "stream",
     "text": [
      "/Users/jade/anaconda3/lib/python3.6/site-packages/sklearn/metrics/classification.py:1135: UndefinedMetricWarning: Precision and F-score are ill-defined and being set to 0.0 in labels with no predicted samples.\n",
      "  'precision', 'predicted', average, warn_for)\n"
     ]
    }
   ],
   "source": [
    "from sklearn.metrics import classification_report\n",
    "print(classification_report(Y_Test, y_pred))"
   ]
  },
  {
   "cell_type": "code",
   "execution_count": 103,
   "metadata": {},
   "outputs": [
    {
     "name": "stdout",
     "output_type": "stream",
     "text": [
      "1     positive\n",
      "6     positive\n",
      "8     negative\n",
      "9     negative\n",
      "13    negative\n",
      "4     positive\n",
      "Name: sentiment, dtype: object\n"
     ]
    }
   ],
   "source": [
    "print(Y_Test)"
   ]
  },
  {
   "cell_type": "code",
   "execution_count": 104,
   "metadata": {},
   "outputs": [
    {
     "name": "stdout",
     "output_type": "stream",
     "text": [
      "2     positive\n",
      "14    negative\n",
      "10    positive\n",
      "7     positive\n",
      "16    positive\n",
      "11    positive\n",
      "3     positive\n",
      "0     positive\n",
      "5     positive\n",
      "15    negative\n",
      "12     neutral\n",
      "Name: sentiment, dtype: object\n"
     ]
    }
   ],
   "source": [
    "print(Y_train)"
   ]
  },
  {
   "cell_type": "code",
   "execution_count": 100,
   "metadata": {},
   "outputs": [],
   "source": [
    "# Use Naïve Bayes and logistic classifier to classify the sentences based on sentiment scores\n",
    "from sklearn.naive_bayes import MultinomialNB"
   ]
  },
  {
   "cell_type": "code",
   "execution_count": 102,
   "metadata": {},
   "outputs": [
    {
     "data": {
      "text/plain": [
       "MultinomialNB(alpha=1.0, class_prior=None, fit_prior=True)"
      ]
     },
     "execution_count": 102,
     "metadata": {},
     "output_type": "execute_result"
    }
   ],
   "source": [
    "nbclf = MultinomialNB()\n",
    "nbclf.fit(X_train, Y_train)\n"
   ]
  },
  {
   "cell_type": "code",
   "execution_count": 106,
   "metadata": {},
   "outputs": [],
   "source": [
    "# Use SVM classifier. Vary the parameter C in this model and plot the accuracies for different C values.\n",
    "from sklearn.svm import SVC, LinearSVC"
   ]
  },
  {
   "cell_type": "code",
   "execution_count": 108,
   "metadata": {},
   "outputs": [
    {
     "data": {
      "text/plain": [
       "SVC(C=1000, cache_size=200, class_weight=None, coef0=0.0,\n",
       "  decision_function_shape='ovr', degree=3, gamma='auto', kernel='linear',\n",
       "  max_iter=-1, probability=False, random_state=None, shrinking=True,\n",
       "  tol=0.001, verbose=False)"
      ]
     },
     "execution_count": 108,
     "metadata": {},
     "output_type": "execute_result"
    }
   ],
   "source": [
    "# fit the model\n",
    "clf=SVC(kernel='linear', C=1000)\n",
    "clf.fit(X_train, Y_train)"
   ]
  },
  {
   "cell_type": "code",
   "execution_count": 109,
   "metadata": {},
   "outputs": [],
   "source": [
    "y_pred1=clf.predict(X_test)"
   ]
  },
  {
   "cell_type": "code",
   "execution_count": 110,
   "metadata": {},
   "outputs": [
    {
     "name": "stdout",
     "output_type": "stream",
     "text": [
      "['positive' 'positive' 'positive' 'negative' 'negative' 'positive']\n"
     ]
    }
   ],
   "source": [
    "print(y_pred1)"
   ]
  },
  {
   "cell_type": "code",
   "execution_count": null,
   "metadata": {},
   "outputs": [],
   "source": [
    "# Compare the accuracies from logistic, NaiveBayes and SVM by plotting a bar graph."
   ]
  }
 ],
 "metadata": {
  "anaconda-cloud": {},
  "kernelspec": {
   "display_name": "Python 3",
   "language": "python",
   "name": "python3"
  },
  "language_info": {
   "codemirror_mode": {
    "name": "ipython",
    "version": 3
   },
   "file_extension": ".py",
   "mimetype": "text/x-python",
   "name": "python",
   "nbconvert_exporter": "python",
   "pygments_lexer": "ipython3",
   "version": "3.6.5"
  }
 },
 "nbformat": 4,
 "nbformat_minor": 1
}
